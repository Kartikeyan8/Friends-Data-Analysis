{
 "cells": [
  {
   "cell_type": "code",
   "execution_count": 26,
   "id": "b99a5947",
   "metadata": {},
   "outputs": [],
   "source": [
    "import numpy as np\n",
    "import re\n",
    "import pandas as pd\n",
    "import matplotlib.pyplot as plt\n",
    "import seaborn as sns\n",
    "def file_len(fname):\n",
    "    num_lines = sum(1 for line in open(fname, encoding='utf-8'))\n",
    "    return num_lines"
   ]
  },
  {
   "cell_type": "code",
   "execution_count": 34,
   "id": "23ae6fc7",
   "metadata": {},
   "outputs": [],
   "source": [
    "ross_num = file_len('ross list.txt')\n",
    "rachel_num = file_len('rachel list.txt')\n",
    "chandler_num = file_len('Chandler list.txt')\n",
    "joey_num = file_len('joey list.txt')\n",
    "monica_num = file_len('monica list.txt')\n",
    "phoebe_num = file_len('phoebe list.txt')"
   ]
  },
  {
   "cell_type": "code",
   "execution_count": 4,
   "id": "3a2326da",
   "metadata": {},
   "outputs": [
    {
     "data": {
      "text/plain": [
       "7672"
      ]
     },
     "execution_count": 4,
     "metadata": {},
     "output_type": "execute_result"
    }
   ],
   "source": [
    "ross_num"
   ]
  },
  {
   "cell_type": "code",
   "execution_count": 35,
   "id": "8743e516",
   "metadata": {},
   "outputs": [
    {
     "data": {
      "image/png": "[encoded data removed]",
      "text/plain": [
       "<Figure size 432x288 with 1 Axes>"
      ]
     },
     "metadata": {
      "needs_background": "light"
     },
     "output_type": "display_data"
    }
   ],
   "source": [
    "x = ['Rachel','Ross','Chandler','Monica','Joey','Phoebe']\n",
    "y = [ross_num, rachel_num,chandler_num,joey_num,monica_num,phoebe_num]\n",
    "y.sort(reverse=True)\n",
    "ax = plt.bar(x, y,width=0.5)"
   ]
  },
  {
   "cell_type": "code",
   "execution_count": 22,
   "id": "ef6710dd",
   "metadata": {},
   "outputs": [],
   "source": [
    "character_list = ['Ross','Rachel','Chandler','Joey','Monica','Phoebe']"
   ]
  },
  {
   "cell_type": "code",
   "execution_count": 31,
   "id": "f5a2a819",
   "metadata": {},
   "outputs": [
    {
     "data": {
      "text/html": [
       "<div>\n",
       "<style scoped>\n",
       "    .dataframe tbody tr th:only-of-type {\n",
       "        vertical-align: middle;\n",
       "    }\n",
       "\n",
       "    .dataframe tbody tr th {\n",
       "        vertical-align: top;\n",
       "    }\n",
       "\n",
       "    .dataframe thead th {\n",
       "        text-align: right;\n",
       "    }\n",
       "</style>\n",
       "<table border=\"1\" class=\"dataframe\">\n",
       "  <thead>\n",
       "    <tr style=\"text-align: right;\">\n",
       "      <th></th>\n",
       "      <th>Ross</th>\n",
       "      <th>Rachel</th>\n",
       "      <th>Chandler</th>\n",
       "      <th>Joey</th>\n",
       "      <th>Monica</th>\n",
       "      <th>Phoebe</th>\n",
       "    </tr>\n",
       "  </thead>\n",
       "  <tbody>\n",
       "    <tr>\n",
       "      <th>Ross</th>\n",
       "      <td>0</td>\n",
       "      <td>0</td>\n",
       "      <td>0</td>\n",
       "      <td>0</td>\n",
       "      <td>0</td>\n",
       "      <td>0</td>\n",
       "    </tr>\n",
       "    <tr>\n",
       "      <th>Rachel</th>\n",
       "      <td>0</td>\n",
       "      <td>0</td>\n",
       "      <td>0</td>\n",
       "      <td>0</td>\n",
       "      <td>0</td>\n",
       "      <td>0</td>\n",
       "    </tr>\n",
       "    <tr>\n",
       "      <th>Chandler</th>\n",
       "      <td>0</td>\n",
       "      <td>0</td>\n",
       "      <td>0</td>\n",
       "      <td>0</td>\n",
       "      <td>0</td>\n",
       "      <td>0</td>\n",
       "    </tr>\n",
       "    <tr>\n",
       "      <th>Joey</th>\n",
       "      <td>0</td>\n",
       "      <td>0</td>\n",
       "      <td>0</td>\n",
       "      <td>0</td>\n",
       "      <td>0</td>\n",
       "      <td>0</td>\n",
       "    </tr>\n",
       "    <tr>\n",
       "      <th>Monica</th>\n",
       "      <td>0</td>\n",
       "      <td>0</td>\n",
       "      <td>0</td>\n",
       "      <td>0</td>\n",
       "      <td>0</td>\n",
       "      <td>0</td>\n",
       "    </tr>\n",
       "    <tr>\n",
       "      <th>Phoebe</th>\n",
       "      <td>0</td>\n",
       "      <td>0</td>\n",
       "      <td>0</td>\n",
       "      <td>0</td>\n",
       "      <td>0</td>\n",
       "      <td>0</td>\n",
       "    </tr>\n",
       "  </tbody>\n",
       "</table>\n",
       "</div>"
      ],
      "text/plain": [
       "          Ross  Rachel  Chandler  Joey  Monica  Phoebe\n",
       "Ross         0       0         0     0       0       0\n",
       "Rachel       0       0         0     0       0       0\n",
       "Chandler     0       0         0     0       0       0\n",
       "Joey         0       0         0     0       0       0\n",
       "Monica       0       0         0     0       0       0\n",
       "Phoebe       0       0         0     0       0       0"
      ]
     },
     "execution_count": 31,
     "metadata": {},
     "output_type": "execute_result"
    }
   ],
   "source": [
    "df=pd.DataFrame(0,index=character_list,columns=character_list)\n",
    "df"
   ]
  },
  {
   "cell_type": "code",
   "execution_count": 47,
   "id": "3584c0d4",
   "metadata": {},
   "outputs": [],
   "source": [
    "filenames=['ross list.txt','rachel list.txt','chandler list.txt','joey list.txt','monica list.txt','phoebe list.txt',]\n",
    "for i, file in zip(character_list, filenames):\n",
    "    \n",
    "    num_ross_mentions = 0\n",
    "    num_rachel_mentions = 0\n",
    "    num_chandler_mentions = 0\n",
    "    num_joey_mentions = 0\n",
    "    num_monica_mentions = 0\n",
    "    num_phoebe_mentions = 0\n",
    "\n",
    "    f = open(file,'r',encoding='utf-8')\n",
    "    for line in f:\n",
    "        if re.search(r'ross', str(line.lower())):\n",
    "            num_ross_mentions += 1\n",
    "        if re.search(r'rachel', str(line.lower())):\n",
    "            num_rachel_mentions += 1\n",
    "        if re.search(r'chandler', str(line.lower())):\n",
    "            num_chandler_mentions += 1\n",
    "        if re.search(r'joey', str(line.lower())):\n",
    "            num_joey_mentions += 1\n",
    "        if re.search(r'monica', str(line.lower())):\n",
    "            num_monica_mentions += 1\n",
    "        if re.search(r'phoebe', str(line.lower())):\n",
    "            num_phoebe_mentions += 1 \n",
    "    \n",
    "    if (i == 'Ross'):\n",
    "        df['Ross']['Ross'] = 0\n",
    "        df['Ross']['Rachel'] = num_rachel_mentions\n",
    "        df['Ross']['Chandler'] = num_chandler_mentions\n",
    "        df['Ross']['Joey'] = num_joey_mentions\n",
    "        df['Ross']['Monica'] = num_monica_mentions\n",
    "        df['Ross']['Phoebe'] = num_phoebe_mentions\n",
    "        \n",
    "    if (i == 'Rachel'):\n",
    "        df['Rachel']['Ross'] = num_ross_mentions\n",
    "        df['Rachel']['Rachel'] = 0\n",
    "        df['Rachel']['Chandler'] = num_chandler_mentions\n",
    "        df['Rachel']['Joey'] = num_joey_mentions\n",
    "        df['Rachel']['Monica'] = num_monica_mentions\n",
    "        df['Rachel']['Phoebe'] = num_phoebe_mentions\n",
    "        \n",
    "    if (i == 'Chandler'):\n",
    "        df['Chandler']['Ross'] = num_ross_mentions\n",
    "        df['Chandler']['Rachel'] = num_rachel_mentions\n",
    "        df['Chandler']['Chandler'] = 0\n",
    "        df['Chandler']['Joey'] = num_joey_mentions\n",
    "        df['Chandler']['Monica'] = num_monica_mentions\n",
    "        df['Chandler']['Phoebe'] = num_phoebe_mentions\n",
    "        \n",
    "    if (i == 'Joey'):\n",
    "        df['Joey']['Ross'] = num_ross_mentions\n",
    "        df['Joey']['Rachel'] = num_rachel_mentions\n",
    "        df['Joey']['Chandler'] = num_chandler_mentions\n",
    "        df['Joey']['Joey'] = 0\n",
    "        df['Joey']['Monica'] = num_monica_mentions\n",
    "        df['Joey']['Phoebe'] = num_phoebe_mentions\n",
    "        \n",
    "    if (i == 'Monica'):\n",
    "        df['Monica']['Ross'] = num_ross_mentions\n",
    "        df['Monica']['Rachel'] = num_rachel_mentions\n",
    "        df['Monica']['Chandler'] = num_chandler_mentions\n",
    "        df['Monica']['Joey'] = num_joey_mentions\n",
    "        df['Monica']['Monica'] = 0\n",
    "        df['Monica']['Phoebe'] = num_phoebe_mentions\n",
    "       \n",
    "    if (i == 'Phoebe'):\n",
    "        df['Phoebe']['Ross'] = num_ross_mentions\n",
    "        df['Phoebe']['Rachel'] = num_rachel_mentions\n",
    "        df['Phoebe']['Chandler'] = num_chandler_mentions\n",
    "        df['Phoebe']['Joey'] = num_joey_mentions\n",
    "        df['Phoebe']['Monica'] = num_monica_mentions\n",
    "        df['Phoebe']['Phoebe'] = 0"
   ]
  },
  {
   "cell_type": "code",
   "execution_count": 49,
   "id": "7f484c6d",
   "metadata": {},
   "outputs": [
    {
     "data": {
      "text/html": [
       "<div>\n",
       "<style scoped>\n",
       "    .dataframe tbody tr th:only-of-type {\n",
       "        vertical-align: middle;\n",
       "    }\n",
       "\n",
       "    .dataframe tbody tr th {\n",
       "        vertical-align: top;\n",
       "    }\n",
       "\n",
       "    .dataframe thead th {\n",
       "        text-align: right;\n",
       "    }\n",
       "</style>\n",
       "<table border=\"1\" class=\"dataframe\">\n",
       "  <thead>\n",
       "    <tr style=\"text-align: right;\">\n",
       "      <th></th>\n",
       "      <th>Ross</th>\n",
       "      <th>Rachel</th>\n",
       "      <th>Chandler</th>\n",
       "      <th>Joey</th>\n",
       "      <th>Monica</th>\n",
       "      <th>Phoebe</th>\n",
       "    </tr>\n",
       "  </thead>\n",
       "  <tbody>\n",
       "    <tr>\n",
       "      <th>Ross</th>\n",
       "      <td>0</td>\n",
       "      <td>619</td>\n",
       "      <td>322</td>\n",
       "      <td>432</td>\n",
       "      <td>296</td>\n",
       "      <td>272</td>\n",
       "    </tr>\n",
       "    <tr>\n",
       "      <th>Rachel</th>\n",
       "      <td>394</td>\n",
       "      <td>0</td>\n",
       "      <td>193</td>\n",
       "      <td>250</td>\n",
       "      <td>335</td>\n",
       "      <td>286</td>\n",
       "    </tr>\n",
       "    <tr>\n",
       "      <th>Chandler</th>\n",
       "      <td>289</td>\n",
       "      <td>252</td>\n",
       "      <td>0</td>\n",
       "      <td>420</td>\n",
       "      <td>474</td>\n",
       "      <td>251</td>\n",
       "    </tr>\n",
       "    <tr>\n",
       "      <th>Joey</th>\n",
       "      <td>321</td>\n",
       "      <td>459</td>\n",
       "      <td>374</td>\n",
       "      <td>0</td>\n",
       "      <td>314</td>\n",
       "      <td>255</td>\n",
       "    </tr>\n",
       "    <tr>\n",
       "      <th>Monica</th>\n",
       "      <td>252</td>\n",
       "      <td>368</td>\n",
       "      <td>394</td>\n",
       "      <td>233</td>\n",
       "      <td>0</td>\n",
       "      <td>328</td>\n",
       "    </tr>\n",
       "    <tr>\n",
       "      <th>Phoebe</th>\n",
       "      <td>203</td>\n",
       "      <td>328</td>\n",
       "      <td>170</td>\n",
       "      <td>177</td>\n",
       "      <td>366</td>\n",
       "      <td>0</td>\n",
       "    </tr>\n",
       "  </tbody>\n",
       "</table>\n",
       "</div>"
      ],
      "text/plain": [
       "          Ross  Rachel  Chandler  Joey  Monica  Phoebe\n",
       "Ross         0     619       322   432     296     272\n",
       "Rachel     394       0       193   250     335     286\n",
       "Chandler   289     252         0   420     474     251\n",
       "Joey       321     459       374     0     314     255\n",
       "Monica     252     368       394   233       0     328\n",
       "Phoebe     203     328       170   177     366       0"
      ]
     },
     "execution_count": 49,
     "metadata": {},
     "output_type": "execute_result"
    }
   ],
   "source": [
    "df"
   ]
  },
  {
   "cell_type": "code",
   "execution_count": 53,
   "id": "f47ba63b",
   "metadata": {},
   "outputs": [],
   "source": [
    "ross_sum_mention=df['Ross'].sum()\n",
    "rachel_sum_mention=df['Rachel'].sum()\n",
    "chandler_sum_mention=df['Chandler'].sum()\n",
    "joey_sum_mention=df['Joey'].sum()\n",
    "monica_sum_mention=df['Monica'].sum()\n",
    "phoebe_sum_mention=df['Phoebe'].sum()\n",
    "mention_list=[ross_sum_mention,rachel_sum_mention,chandler_sum_mention,joey_sum_mention,monica_sum_mention,phoebe_sum_mention]"
   ]
  },
  {
   "cell_type": "code",
   "execution_count": 55,
   "id": "64018795",
   "metadata": {},
   "outputs": [
    {
     "data": {
      "image/png": "[encoded data removed]",
      "text/plain": [
       "<Figure size 432x288 with 1 Axes>"
      ]
     },
     "metadata": {
      "needs_background": "light"
     },
     "output_type": "display_data"
    }
   ],
   "source": [
    "x = ['Rachel','Ross','Chandler','Monica','Joey','Phoebe']\n",
    "y=mention_list\n",
    "y.sort(reverse=True)\n",
    "a=plt.bar(x,y,width=0.5)"
   ]
  },
  {
   "cell_type": "code",
   "execution_count": 92,
   "id": "6a6e97ca",
   "metadata": {},
   "outputs": [],
   "source": [
    "catch_phrase1=0\n",
    "catch_phrase2=0\n",
    "catch_phrase3=0\n",
    "catch_phrase4=0\n",
    "catch_phrase5=0\n",
    "catch_phrase6=0\n",
    "catchphrases = [\"How you doin'\",'Smelly Cat','We were on a break','Dinosaur','unagi','pivot']"
   ]
  },
  {
   "cell_type": "code",
   "execution_count": 93,
   "id": "a9b2a897",
   "metadata": {
    "scrolled": true
   },
   "outputs": [
    {
     "data": {
      "text/plain": [
       "5"
      ]
     },
     "execution_count": 93,
     "metadata": {},
     "output_type": "execute_result"
    }
   ],
   "source": [
    "for file in filenames:\n",
    "    f=open(file,'r',encoding='utf-8')\n",
    "    for a in f:\n",
    "        \" \".join(line.split())\n",
    "        if re.findall(r'how you doin',str(a.lower())):\n",
    "            catch_phrase1+=len(re.findall(r'how you doin',str(a.lower())))\n",
    "        if re.findall(r'smelly cat',str(a.lower())):\n",
    "            catch_phrase2+=1\n",
    "        if re.findall(r'we were on a break',str(a.lower())):\n",
    "            catch_phrase3+=1\n",
    "        if re.findall(r'dinosaurs',str(a.lower())):\n",
    "            catch_phrase4+=1    \n",
    "        if re.findall(r'unagi',str(a.lower())):\n",
    "            catch_phrase5+=1\n",
    "        if re.findall(r'pivot',str(a.lower())):\n",
    "            catch_phrase6+=1    \n",
    "catch_phrase6         "
   ]
  },
  {
   "cell_type": "code",
   "execution_count": 100,
   "id": "478f5809",
   "metadata": {},
   "outputs": [
    {
     "data": {
      "text/plain": [
       "<BarContainer object of 6 artists>"
      ]
     },
     "execution_count": 100,
     "metadata": {},
     "output_type": "execute_result"
    },
    {
     "data": {
      "image/png": "[encoded data removed]",
      "text/plain": [
       "<Figure size 864x864 with 1 Axes>"
      ]
     },
     "metadata": {
      "needs_background": "light"
     },
     "output_type": "display_data"
    }
   ],
   "source": [
    "catchphrase_list=[catch_phrase1,catch_phrase2,catch_phrase3,catch_phrase4,catch_phrase5,catch_phrase6]\n",
    "x=catchphrases\n",
    "y=catchphrase_list\n",
    "fig = plt.figure(figsize=(12,12))\n",
    "\n",
    "\n",
    "plt.bar(x,y,width=0.8)"
   ]
  },
  {
   "cell_type": "code",
   "execution_count": null,
   "id": "4a6e2965",
   "metadata": {},
   "outputs": [],
   "source": []
  }
 ],
 "metadata": {
  "kernelspec": {
   "display_name": "Python 3",
   "language": "python",
   "name": "python3"
  },
  "language_info": {
   "codemirror_mode": {
    "name": "ipython",
    "version": 3
   },
   "file_extension": ".py",
   "mimetype": "text/x-python",
   "name": "python",
   "nbconvert_exporter": "python",
   "pygments_lexer": "ipython3",
   "version": "3.9.7"
  }
 },
 "nbformat": 4,
 "nbformat_minor": 5
}
